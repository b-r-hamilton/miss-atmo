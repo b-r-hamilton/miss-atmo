{
 "cells": [
  {
   "cell_type": "markdown",
   "metadata": {},
   "source": [
    "# Geographic Correlation to POI: air temperature (reanalysis) and precipitation (GPCC)"
   ]
  },
  {
   "cell_type": "markdown",
   "metadata": {},
   "source": [
    "Calculate correlation between geographic points surrounding St. Louis, MO for chosen environmental variables. "
   ]
  },
  {
   "cell_type": "markdown",
   "metadata": {},
   "source": [
    "#### import packages"
   ]
  },
  {
   "cell_type": "code",
   "execution_count": null,
   "metadata": {},
   "outputs": [],
   "source": [
    "import env_methods as em \n",
    "import vis_methods as vm \n",
    "import time \n",
    "import numpy as np\n",
    "import copy"
   ]
  },
  {
   "cell_type": "markdown",
   "metadata": {},
   "source": [
    "#### initial parameters "
   ]
  },
  {
   "cell_type": "code",
   "execution_count": null,
   "metadata": {},
   "outputs": [],
   "source": [
    "st_lou = [38.611389, -90.203154] #lat/lon coords of a taco joint in st. lou \n",
    "\n",
    "#lat_start = 60\n",
    "#lat_end = 0\n",
    "#lon_start = -180\n",
    "#lon_end =  -20\n",
    "\n",
    "lat_start = 90\n",
    "lat_end = -90\n",
    "lon_start = -180\n",
    "lon_end =  180\n",
    "\n",
    "gpcc_dir = r'D:\\GPCC'\n",
    "air_dir = r'D:\\NOAA - just air'\n",
    "mois_dir = r'D:\\NOAA Reanalysis Data\\Soil'"
   ]
  },
  {
   "cell_type": "markdown",
   "metadata": {},
   "source": [
    "#### import data"
   ]
  },
  {
   "cell_type": "code",
   "execution_count": null,
   "metadata": {},
   "outputs": [],
   "source": [
    "start_time = time.time()\n",
    "pre_dic = em.get_data_gpcc(gpcc_dir, 1) #1 degree resolution, can't handle 0.25 deg res \n",
    "print(\"--- %s seconds for GPCC ---\" % (time.time() - start_time))"
   ]
  },
  {
   "cell_type": "code",
   "execution_count": null,
   "metadata": {},
   "outputs": [],
   "source": [
    "start_time = time.time()\n",
    "air_dic = em.get_data(air_dir, True, [0]) #1 degree resolution, can't handle 0.25 deg res \n",
    "\n",
    "air = air_dic['nc_vars']['air'][:,0,:,:]\n",
    "#air = em.normalize_data(air, air_dic['time'])\n",
    "air_dic['air'] = air_dic.pop('nc_vars')\n",
    "air_dic['air'] = air\n",
    "#air_dic['lon'] = [x - 180 for x in air_dic['lon']]\n",
    "print(\"--- %s seconds for air temp ---\" % (time.time() - start_time))"
   ]
  },
  {
   "cell_type": "code",
   "execution_count": null,
   "metadata": {},
   "outputs": [],
   "source": [
    "start_time = time.time()\n",
    "mois_dic = em.get_data(mois_dir, True, [0])\n",
    "soilm = mois_dic['nc_vars']['soilm']\n",
    "mois_dic['soilm'] = mois_dic.pop('nc_vars')\n",
    "soilm[soilm == 9.96921E36] = np.nan\n",
    "soilm[soilm == -9.96921E36] = np.nan\n",
    "\n",
    "mois_dic['soilm'] = soilm\n",
    "#mois_dic['lon'] = [x - 180 for x in mois_dic['lon']]\n",
    "print(\"--- %s seconds for soil moisture ---\" % (time.time() - start_time))"
   ]
  },
  {
   "cell_type": "code",
   "execution_count": null,
   "metadata": {},
   "outputs": [],
   "source": [
    "def compress2annual(dp, var):\n",
    "    num_years = dp['time'][-1].year - dp['time'][0].year + 1 \n",
    "    new_data = np.empty((num_years, dp[var].shape[1], dp[var].shape[2]))\n",
    "    time_new = np.arange(dp['time'][0].year, dp['time'][-1].year + 1).tolist()\n",
    "\n",
    "    for y in time_new: \n",
    "        inds = em.get_year_indices(dp['time'], y)\n",
    "        arr = np.mean(dp[var][inds, :, : ], axis = 0)\n",
    "        \n",
    "        new_data[time_new.index(y), :, :] = arr\n",
    "    \n",
    "    dp['time'] = time_new\n",
    "    dp[var] = new_data\n",
    "    \n",
    "    return dp \n",
    "\n",
    "air_dic = compress2annual(copy.deepcopy(air_dic), 'air')\n",
    "pre_dic = compress2annual(copy.deepcopy(pre_dic), 'precip')\n",
    "mois_dic = compress2annual(copy.deepcopy(mois_dic), 'soilm')"
   ]
  },
  {
   "cell_type": "markdown",
   "metadata": {},
   "source": [
    "#### geospatial correlation method"
   ]
  },
  {
   "cell_type": "code",
   "execution_count": null,
   "metadata": {},
   "outputs": [],
   "source": [
    "#method to generate a correlation grid \n",
    "#assume grid = time x lat x lon \n",
    "def corr_grid(array, poi):\n",
    "    corr = np.empty([array.shape[1], array.shape[2]])\n",
    "    comp = array[:, poi[0], poi[1]] #time series at poi \n",
    "    for i in range(array.shape[1]):\n",
    "        for j in range(array.shape[2]):\n",
    "            comp0 = array[:, i, j]\n",
    "            corr[i, j] = np.corrcoef(comp, comp0)[0,1]\n",
    "    return corr"
   ]
  },
  {
   "cell_type": "markdown",
   "metadata": {},
   "source": [
    "#### run correlation on each dictionary "
   ]
  },
  {
   "cell_type": "code",
   "execution_count": null,
   "metadata": {},
   "outputs": [],
   "source": [
    "start_time = time.time()\n",
    "dics = [pre_dic, air_dic, mois_dic]\n",
    "name = ['precip', 'air', 'soilm']\n",
    "c = []\n",
    "for i in range(len(dics)):\n",
    "    d = dics[i]\n",
    "    if min(d['lon']) == 0: \n",
    "        poi = [em.find_closest_val(st_lou[0], d['lat']), em.find_closest_val(st_lou[1] + 180, d['lon'])]\n",
    "    else:\n",
    "        poi = [em.find_closest_val(st_lou[0], d['lat']), em.find_closest_val(st_lou[1], d['lon'])]\n",
    "        \n",
    "    c.append(corr_grid(d[name[i]], poi))\n",
    "print(\"--- %s seconds for correlation  ---\" % (time.time() - start_time))"
   ]
  },
  {
   "cell_type": "code",
   "execution_count": null,
   "metadata": {},
   "outputs": [],
   "source": [
    "import matplotlib.pyplot as plt \n",
    "import cartopy \n",
    "import cartopy.crs as ccrs \n",
    "def plot_corr(dic, array, title, lat_start, lat_end, lon_start, lon_end):\n",
    "    lat = dic['lat']\n",
    "    lon = dic['lon']\n",
    "    \n",
    "    if min(lon) == 0: \n",
    "        st_lou[1] = st_lou[1] + 180\n",
    "        lon_start = lon_start + 180\n",
    "        lon_end = lon_end + 180\n",
    "        \n",
    "    lat1 = em.find_closest_val(lat_start, lat)\n",
    "    lat2 = em.find_closest_val(lat_end, lat)\n",
    "    lon1 = em.find_closest_val(lon_start, lon)\n",
    "    lon2 = em.find_closest_val(lon_end, lon)\n",
    "\n",
    "    fig = plt.figure(figsize = (12, 5))\n",
    "    fig.patch.set_facecolor('white')\n",
    "    #ax = plt.subplot(projection = ccrs.PlateCarree())\n",
    "\n",
    "    #ax.coastlines()\n",
    "    plt.title(title)\n",
    "    plt.xlabel('lon')\n",
    "    plt.ylabel('lat')\n",
    "    #ax.set_xticks(np.round(np.asarray(lon[::10])))\n",
    "    #ax.set_yticks(np.round(np.asarray(lat[::5])))\n",
    "    mesh = plt.pcolormesh(lon[lon1:lon2], lat[lat1:lat2], array[lat1:lat2,lon1:lon2], cmap = 'coolwarm', vmax = 1, vmin = -1)\n",
    "    cbar = plt.colorbar(mesh)\n",
    "    plt.scatter(st_lou[1], st_lou[0], color = 'green', s = 20)\n",
    "    cbar.set_label('correlation coefficient to St. Louis')\n",
    "    #ax.add_feature(cartopy.feature.BORDERS, linestyle=':')\n",
    "    #ax.add_feature(cartopy.feature.LAKES, alpha=0.5)\n",
    "    #ax.add_feature(cartopy.feature.RIVERS)\n",
    "\n",
    "plot_corr(pre_dic, c[0], 'Precipitation (GPCC)', lat_start, lat_end, lon_start, lon_end)\n",
    "plot_corr(air_dic, c[1], 'Air Temperature Annual Average Correlation', lat_start, lat_end,lon_start, lon_end)\n",
    "plot_corr(mois_dic, c[2], 'Soil Moisture Annual Average Correlation', lat_start, lat_end, lon_start, lon_end)"
   ]
  },
  {
   "cell_type": "code",
   "execution_count": null,
   "metadata": {},
   "outputs": [],
   "source": [
    "import matplotlib.pyplot as plt \n",
    "plt.figure()\n",
    "plt.pcolormesh(air_dic['lon'], air_dic['lat'], air_dic['air'][-1, :, :])\n",
    "plt.figure()\n",
    "plt.pcolormesh(mois_dic['lon'], mois_dic['lat'], mois_dic['soilm'][141,:,:])\n",
    "plt.figure()\n",
    "plt.pcolormesh(pre_dic['lon'], pre_dic['lat'], pre_dic['precip'][0, :, :])"
   ]
  },
  {
   "cell_type": "code",
   "execution_count": null,
   "metadata": {},
   "outputs": [],
   "source": [
    "min(mois_dic['lon'])"
   ]
  },
  {
   "cell_type": "code",
   "execution_count": null,
   "metadata": {},
   "outputs": [],
   "source": []
  }
 ],
 "metadata": {
  "kernelspec": {
   "display_name": "Python 3",
   "language": "python",
   "name": "python3"
  },
  "language_info": {
   "codemirror_mode": {
    "name": "ipython",
    "version": 3
   },
   "file_extension": ".py",
   "mimetype": "text/x-python",
   "name": "python",
   "nbconvert_exporter": "python",
   "pygments_lexer": "ipython3",
   "version": "3.6.10"
  }
 },
 "nbformat": 4,
 "nbformat_minor": 4
}
